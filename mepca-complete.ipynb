{
 "cells": [
  {
   "cell_type": "markdown",
   "metadata": {},
   "source": [
    "## Tool to read MPA management reporting and convert responses to MEPCA Compatible outputs"
   ]
  },
  {
   "cell_type": "markdown",
   "metadata": {},
   "source": [
    "Import dependencies"
   ]
  },
  {
   "cell_type": "code",
   "execution_count": null,
   "metadata": {},
   "outputs": [],
   "source": [
    "import os\n",
    "import numpy as np\n",
    "import pandas as pd\n",
    "import glob\n",
    "import matplotlib.pyplot as plt\n",
    "# import re"
   ]
  },
  {
   "cell_type": "markdown",
   "metadata": {},
   "source": [
    "### Local Operation:\n",
    "The user inputs the folder where the collated MPA management Excel sheet is stored. Code looks into `inputfolder` for xlsx files:"
   ]
  },
  {
   "cell_type": "code",
   "execution_count": null,
   "metadata": {},
   "outputs": [],
   "source": [
    "inputfolder = input('Enter input file path: ')\n",
    "filename = glob.glob(inputfolder)\n",
    "\n",
    "# Defines a data frame for the Excel to be read into:\n",
    "read_df = pd.DataFrame()"
   ]
  },
  {
   "cell_type": "markdown",
   "metadata": {},
   "source": [
    "For each Excel file in the folder, sheet `MPA_MGT` is read into the data frame `read_df`:"
   ]
  },
  {
   "cell_type": "code",
   "execution_count": null,
   "metadata": {},
   "outputs": [],
   "source": [
    "for filename in os.listdir(inputfolder):\n",
    "    inputfile = os.path.join(inputfolder, filename)\n",
    "    df = pd.DataFrame(pd.read_excel(inputfile, sheet_name='MPA_MGT', header=0))\n",
    "print (df.iloc[:,[0,3,4,6,8,10,12]])"
   ]
  },
  {
   "cell_type": "markdown",
   "metadata": {},
   "source": [
    "Basic QC on the entries to make sure the right type is captured:"
   ]
  },
  {
   "cell_type": "code",
   "execution_count": null,
   "metadata": {},
   "outputs": [],
   "source": [
    "df_prep = df.replace(to_replace=[\"yes\", \"partial\", \"no\", \"no response\", \"unknown\", \"Not applicable\", \"high\", \"moderate\"], value=[\"Yes\", \"Partial\", \"No\", \"No response\", \"Unknown\", \"Not Applicable\", \"High\", \"Moderate\"])\n",
    "df_prep.to_excel(inputfolder + \"/2-Addendum3_Management_MEPCA-qc.xlsx\", sheet_name = \"mepca-qc\")"
   ]
  },
  {
   "cell_type": "markdown",
   "metadata": {},
   "source": [
    "Find and replace the entries in the QC result `df_prep`, in accordance with the MEPCA guidance:  \\\n",
    "| Reponse | Score |\n",
    "|---------|-------|\n",
    "| \"Yes\" | 2 |  |\n",
    "| \"Partial\" | 1 |\n",
    "| \"No\" / \"Unknown\" | 0 | \n",
    "\n",
    "\\\n",
    "\n",
    "| Confidence | Score |\n",
    "|---------|-------|\n",
    "| \"High\" | 3 |\n",
    "| \"Moderate\" | 2 |\n",
    "| \"Low\" | 1 |\n",
    "| \"Not applicable\" | 0 |"
   ]
  },
  {
   "cell_type": "code",
   "execution_count": null,
   "metadata": {},
   "outputs": [],
   "source": [
    "df_mepca = df_prep.replace(to_replace=[\"Yes\", \"Partial\", \"No\", \"No response\", \"Unknown\", \"Not Applicable\", \"High\", \"Moderate\", \"Low\", np.nan], value=[2, 1, 0, 0, 0, 0, 3, 2, 1, 9999])\n",
    "df_mepca.to_excel(inputfolder + \"/2-Addendum3_Management_MEPCA-scoreconv.xlsx\", sheet_name = \"score-conv\") # Output an Excel to check the conversion values are correct and feed into mepca-indicator-score"
   ]
  },
  {
   "cell_type": "markdown",
   "metadata": {},
   "source": [
    "List all headers in `df_mepca`"
   ]
  },
  {
   "cell_type": "code",
   "execution_count": null,
   "metadata": {},
   "outputs": [],
   "source": [
    "for col in df_mepca.columns:\n",
    "    print(col)"
   ]
  },
  {
   "cell_type": "markdown",
   "metadata": {},
   "source": [
    "Count the results by Response:"
   ]
  },
  {
   "cell_type": "code",
   "execution_count": null,
   "metadata": {},
   "outputs": [],
   "source": [
    "df_countmatrix = df_mepca\n",
    "df_countmatrix = df.groupby(['Country', 'a) Management documented: Response', 'b)Measures implemented: Response ', 'c) Monitoring in place: Response', 'd)Moving towards objectives - Response', 'd)Moving towards objectives - Confidence score'], as_index=False).size()\n",
    "df_countmatrix.to_excel(inputfolder + \"/5-Addendum3_Management_MEPCA-countmatrix.xlsx\")\n",
    "\n",
    "for col in df_countmatrix.columns:\n",
    "    print(col)"
   ]
  },
  {
   "cell_type": "markdown",
   "metadata": {},
   "source": [
    "## Module to read `mepca-calc` and `mepca-indicator-score` outputs, and plot"
   ]
  },
  {
   "cell_type": "code",
   "execution_count": null,
   "metadata": {},
   "outputs": [],
   "source": [
    "import os\n",
    "import pandas as pd\n",
    "import numpy as np\n",
    "import plotly\n",
    "from plotly import express as px\n",
    "from collections import Counter"
   ]
  },
  {
   "cell_type": "markdown",
   "metadata": {},
   "source": [
    "Import data from `mepca-calc`, output from QC:"
   ]
  },
  {
   "cell_type": "code",
   "execution_count": null,
   "metadata": {},
   "outputs": [],
   "source": [
    "# inputfolder = input('Enter input file path: ')\n",
    "filename = ('2-Addendum3_Management_MEPCA-qc.xlsx')"
   ]
  },
  {
   "cell_type": "markdown",
   "metadata": {},
   "source": [
    "Create dataframe and read in data"
   ]
  },
  {
   "cell_type": "code",
   "execution_count": null,
   "metadata": {},
   "outputs": [],
   "source": [
    "plotdf = pd.DataFrame()\n",
    "inputfile = os.path.join(inputfolder, filename)\n",
    "plotdf = pd.DataFrame(pd.read_excel(inputfile, header=0))\n",
    "#print(plotdf.columns) # Can be exposed to check the headers that read into the plot."
   ]
  },
  {
   "cell_type": "markdown",
   "metadata": {},
   "source": [
    "Define colours and labels"
   ]
  },
  {
   "cell_type": "code",
   "execution_count": null,
   "metadata": {},
   "outputs": [],
   "source": [
    "# RAL values converted using https://rgb.to/\n",
    "# 'Yes': 'Green': Hex: '#00b050', RAL: 000 176 080\n",
    "# 'Partial': 'Orange': Hex:'#f79646', RAL: 247 150 070 \n",
    "# 'No': 'Red': Hex:'#c0504d', RAL: 192 080 077\n",
    "# 'No response': 'Dark grey': Hex: '#404040', RAL: 064 064 064\n",
    "# 'Unknown': 'Light grey': Hex:'#a6a6a6', RAL: 166 166 166\n",
    "\n",
    "pielabelmap = {'Yes': 'Yes',\n",
    "               'Partial': 'Partial',\n",
    "               'No': 'No',\n",
    "               'No response': 'No response',\n",
    "               'Unknown': 'Unknown'}\n",
    "\n",
    "colours = {'Yes': '#00b050',\n",
    "            'Partial': '#f79646',\n",
    "            'No': '#c0504d',\n",
    "            'No response': '#404040',\n",
    "            'Unknown': '#a6a6a6',\n",
    "            'High': '#00b050',\n",
    "            'Moderate': '#f79646',\n",
    "            'Low': '#c0504d',\n",
    "             'Not Applicable': '#a6a6a6' }\n",
    "\n",
    "wordcounts = ['Yes,', 'Partial', 'No', 'No response', 'Unknown', np.nan]\n",
    "\n"
   ]
  },
  {
   "cell_type": "markdown",
   "metadata": {},
   "source": [
    "Plot pies"
   ]
  },
  {
   "cell_type": "code",
   "execution_count": null,
   "metadata": {},
   "outputs": [],
   "source": [
    "a = Counter(plotdf['a) Management documented: Response'])\n",
    "print(a.items())\n",
    "labelsa = list(a.keys())\n",
    "valuesa = list(a.values())\n",
    "plota = px.pie(values=valuesa, names=labelsa, color=a.keys(), color_discrete_map=colours,title=\"'a) Management documented: Response'\")\n",
    "plota.update_traces(textinfo='percent+value')\n",
    "plota.show()\n",
    "plota.write_image(inputfolder + '/plota.png')\n",
    "\n",
    "b = Counter(plotdf['b)Measures implemented: Response '])\n",
    "print(b.items())\n",
    "labelsb = list(b.keys())\n",
    "valuesb = list(b.values())\n",
    "plotb = px.pie(values=valuesb, names=labelsb, color=b.keys(), color_discrete_map=colours, title=\"'b)Measures implemented: Response'\")\n",
    "plotb.update_traces(textinfo='percent+value')\n",
    "plotb.show()\n",
    "plotb.write_image(inputfolder + '/plotb.png')\n",
    "\n",
    "c = Counter(plotdf['c) Monitoring in place: Response'])\n",
    "print(c.items())\n",
    "labelsc = list(c.keys())\n",
    "valuesc = list(c.values())\n",
    "plotc = px.pie(values=valuesc, names=labelsc, color=c.keys(), color_discrete_map=colours, title=\"'c) Monitoring in place: Response'\")\n",
    "plotc.update_traces(textinfo='percent+value')\n",
    "plotc.show()\n",
    "plotc.write_image(inputfolder + '/plotc.png')\n",
    "\n",
    "d = Counter(plotdf['d)Moving towards objectives - Response'])\n",
    "print(d.items())\n",
    "labelsd = list(d.keys())\n",
    "valuesd = list(d.values())\n",
    "plotd = px.pie(values=valuesd, names=labelsd, color=d.keys(), color_discrete_map=colours, title=\"'d)Moving towards objectives: Response'\")\n",
    "plotd.update_traces(textinfo='percent+value')\n",
    "plotd.show()\n",
    "plotd.write_image(inputfolder + '/plotd.png')\n",
    "\n",
    "e = Counter(plotdf['d)Moving towards objectives - Confidence score'])\n",
    "print(e.items())\n",
    "labelse = list(e.keys())\n",
    "valuese = list(e.values())\n",
    "plote = px.pie(values=valuese, names=labelse, color=e.keys(), color_discrete_map=colours, title=\"'d)Moving towards objectives: Confidence score'\")\n",
    "plote.update_traces(textinfo='percent+value')\n",
    "plote.show()\n",
    "plote.write_image(inputfolder + '/plote.png')\n"
   ]
  },
  {
   "cell_type": "markdown",
   "metadata": {},
   "source": [
    "## Module to read `mepca-calc` outputs and produce `mepca-indicator-score`"
   ]
  },
  {
   "cell_type": "markdown",
   "metadata": {},
   "source": [
    "## Contextual information:\n",
    "### The mapping of OSPAR Management Status Questions to MEPCA Indicator Metrics:\n",
    "\n",
    "| OSPAR Management Status Question | MEPCA Indicator Metrics |\n",
    "|----------------------------------|-------------------------|\n",
    "| Question A - Is the MPA management documented?\t|\tc) Is information on the PCA for management available? |\n",
    "| Question B - Are the measures to achieve the conservation objectives being implemented? |\t\td) Are management measures being implemented for the area to achieve its outcomes for conservation?\t|\n",
    "| Question C - Is monitoring in place to assess if measures are working?\t|\te) Does monitoring take place which helps to assess progress towards achieving conservation outcomes? |\n",
    "| Question D - Is the MPA moving towards or has it reached its conservation objectives?\t|\tf) Is the PCA achieving its conservation outcomes?\t|\n",
    "| Confidence scores\t| g) What is the level of confidence in the data used to assess progress towards the achievement of conservation outcomes? |\n",
    "\n",
    "Scoring conversions:  \n",
    "| Reponse | Score |\n",
    "|---------|-------|\n",
    "| \"Yes\" | 2 |  |\n",
    "| \"Partial\" | 1 |\n",
    "| \"No\" / \"Unknown\" | 0 |  \\\n",
    "\n",
    "Confidence scores:\n",
    "| Confidence | Score |\n",
    "|---------|-------|\n",
    "| \"High\" | 3 |\n",
    "| \"Moderate\" | 2 |\n",
    "| \"Low\" | 1 |\n",
    "| \"Not applicable\" | 0 |"
   ]
  },
  {
   "cell_type": "markdown",
   "metadata": {},
   "source": [
    "### Formulas used to calculate the MEPCA indicator score\n",
    "\n",
    "(((c * 0.15) + (d * 0.25) + (e * 0.25) + (h * 0.35) / 3.4) * 100)  \\\n",
    "c = QstnA, d = QstnB, e = QstnC, h = (QstnD * Confidence scores)  \\\n",
    "Pass = n% > 38.24  \\\n",
    "Inadequate = n% < 38.24  \\\n",
    "\n",
    "PartOne = QstnA * 0.15  \\\n",
    "PartTwo = QstnB * 0.25  \\\n",
    "PartThree = QstnC * 0.25  \\\n",
    "PartFour = QstnD * Confidence scores  \\\n",
    "PartFive = PartFour * 0.35  \\\n",
    "PartSix = PartFive / 3.4  \\\n",
    "PartSeven = PartOne + PartTwo + PartThree + PartSix  \\\n",
    "IndicatorScore = PartSeven * 100\n"
   ]
  },
  {
   "cell_type": "markdown",
   "metadata": {},
   "source": [
    "## Data Processing:\n",
    "Import dependencies"
   ]
  },
  {
   "cell_type": "code",
   "execution_count": null,
   "metadata": {},
   "outputs": [],
   "source": [
    "import os\n",
    "import pandas as pd"
   ]
  },
  {
   "cell_type": "markdown",
   "metadata": {},
   "source": [
    "The user inputs the folder where the collated MPA management Excel sheet is stored. Code looks into `inputfolder` for xlsx files:"
   ]
  },
  {
   "cell_type": "code",
   "execution_count": null,
   "metadata": {},
   "outputs": [],
   "source": [
    "# inputfolder = input('Enter input file path: ')\n",
    "filename = ('2-Addendum3_Management_MEPCA-scoreconv.xlsx')"
   ]
  },
  {
   "cell_type": "markdown",
   "metadata": {},
   "source": [
    "Defines a data frame for the Excel to be read into:"
   ]
  },
  {
   "cell_type": "code",
   "execution_count": null,
   "metadata": {},
   "outputs": [],
   "source": [
    "read_df = pd.DataFrame()"
   ]
  },
  {
   "cell_type": "markdown",
   "metadata": {},
   "source": [
    "Reads in the MEPCA Score Conversion Excel file from `mepca-calc`, sheet `score-conv` is read into the data frame `df_ind`:"
   ]
  },
  {
   "cell_type": "code",
   "execution_count": null,
   "metadata": {},
   "outputs": [],
   "source": [
    "inputfile = os.path.join(inputfolder, filename)\n",
    "df_ind = pd.DataFrame(pd.read_excel(inputfile, sheet_name='score-conv', header=0))\n",
    "# print(df_ind.columns) # Can be uncommented to check the headers that read into the calculation."
   ]
  },
  {
   "cell_type": "markdown",
   "metadata": {},
   "source": [
    "Calculating MEPCA indicator score:"
   ]
  },
  {
   "cell_type": "code",
   "execution_count": null,
   "metadata": {},
   "outputs": [],
   "source": [
    "df_ind['PartOne'] = df_ind['a) Management documented: Response'].multiply(0.15)\n",
    "df_ind['PartTwo'] = df_ind['b)Measures implemented: Response '].multiply(0.25)\n",
    "df_ind['PartThree'] = df_ind['c) Monitoring in place: Response'].multiply(0.25)\n",
    "df_ind['PartFour'] = df_ind['d)Moving towards objectives - Response'].multiply(df_ind['d)Moving towards objectives - Confidence score'])\n",
    "df_ind['PartFive'] = df_ind['PartFour'].multiply(0.35)\n",
    "df_ind['PartSix'] = df_ind['PartOne'] + df_ind['PartTwo'] + df_ind['PartThree'] + df_ind['PartFive']\n",
    "df_ind['PartSeven'] = df_ind['PartSix'].divide(3.4)\n",
    "df_ind['IndicatorScore'] = df_ind['PartSeven'].multiply(100)\n",
    "\n",
    "df_ind.to_excel(inputfolder + \"/2-Addendum3_Management_MEPCA-FinalScore.xlsx\", sheet_name=\"MEPCA-Scores\")\n",
    "\n",
    "# print(df_ind)"
   ]
  }
 ],
 "metadata": {
  "kernelspec": {
   "display_name": "Python 3",
   "language": "python",
   "name": "python3"
  },
  "language_info": {
   "codemirror_mode": {
    "name": "ipython",
    "version": 3
   },
   "file_extension": ".py",
   "mimetype": "text/x-python",
   "name": "python",
   "nbconvert_exporter": "python",
   "pygments_lexer": "ipython3",
   "version": "3.12.1"
  }
 },
 "nbformat": 4,
 "nbformat_minor": 2
}
